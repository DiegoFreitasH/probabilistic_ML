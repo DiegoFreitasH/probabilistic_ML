{
 "cells": [
  {
   "cell_type": "markdown",
   "id": "4f5171cf",
   "metadata": {},
   "source": [
    "# Trabalho 03 - Naive Bayes\n",
    "Aluno: Diego Freitas Holanda\n",
    "\n",
    "Matricula: 411627"
   ]
  },
  {
   "cell_type": "code",
   "execution_count": 22,
   "id": "3ff0870a",
   "metadata": {},
   "outputs": [],
   "source": [
    "import numpy as np\n",
    "import pandas as pd\n",
    "from sklearn.model_selection import train_test_split"
   ]
  },
  {
   "cell_type": "code",
   "execution_count": 23,
   "id": "9cdc6f05",
   "metadata": {},
   "outputs": [],
   "source": [
    "def encode(y: str) -> int:\n",
    "    return 0 if y.startswith('r') else 1\n",
    "\n",
    "def decode(y: int) -> str:\n",
    "    return 'republican' if y == 0 else 'democrat'"
   ]
  },
  {
   "cell_type": "markdown",
   "id": "1c413a96",
   "metadata": {},
   "source": [
    "## Carregando Dataset"
   ]
  },
  {
   "cell_type": "code",
   "execution_count": 24,
   "id": "820990ed",
   "metadata": {},
   "outputs": [],
   "source": [
    "dataset = pd.read_csv('./votesDataset.csv').values"
   ]
  },
  {
   "cell_type": "code",
   "execution_count": 25,
   "id": "a883119f",
   "metadata": {},
   "outputs": [],
   "source": [
    "X = dataset[:, 1:-1]\n",
    "y = np.vstack([encode(item) for item in dataset[:, 0]])"
   ]
  },
  {
   "cell_type": "code",
   "execution_count": 26,
   "id": "48fdf707",
   "metadata": {},
   "outputs": [],
   "source": [
    "def model_evaluation_scores(y, y_predict) -> dict:\n",
    "    metrics = {}\n",
    "    \n",
    "    # Make sure both have the same format\n",
    "    y_predict = y_predict.reshape(-1, 1)\n",
    "    y = y.reshape(-1, 1)\n",
    "    \n",
    "    # True Positves\n",
    "    true_positives = np.nonzero((y == 1) & (y_predict == 1))[0]\n",
    "    n_true_positives = len(true_positives)\n",
    "\n",
    "    # False positives\n",
    "    false_positives = np.nonzero((y == 0) & (y_predict == 1))[0]\n",
    "    n_false_positives = len(false_positives) \n",
    "\n",
    "    # False Negatives\n",
    "    false_negatives = np.nonzero((y == 1) & (y_predict==0))[0]\n",
    "    n_false_negatives = len(false_negatives)\n",
    "\n",
    "    # Accurracy\n",
    "    accurracy = np.sum(y == y_predict) / len(y_predict)\n",
    "    metrics['Accurracy'] = accurracy\n",
    "    \n",
    "    # Recall\n",
    "    recall = n_true_positives / (n_true_positives + n_false_negatives)\n",
    "    metrics['Recall'] = recall\n",
    "    \n",
    "    # Precision\n",
    "    precision = n_true_positives / (n_true_positives + n_false_positives)\n",
    "    metrics['Precision'] = precision\n",
    "    \n",
    "    # F1 Score\n",
    "    f1_score = 2 * (recall * precision) / (recall + precision)\n",
    "    metrics['F1 Score'] = f1_score\n",
    "    \n",
    "    return metrics"
   ]
  },
  {
   "cell_type": "markdown",
   "id": "9788568a",
   "metadata": {},
   "source": [
    "## Implemantação do Naive Bayes Binomial"
   ]
  },
  {
   "cell_type": "code",
   "execution_count": 27,
   "id": "639545e4",
   "metadata": {},
   "outputs": [],
   "source": [
    "class BinomialNaiveBayes:\n",
    "    def __init__(self, n_classes, alpha, a, b):\n",
    "        self.n_classes = n_classes\n",
    "        self.alpha = alpha\n",
    "        self.a = a\n",
    "        self.b = b\n",
    "        \n",
    "    def fit(self, x: np.ndarray, y: np.ndarray):\n",
    "        self.expected_pi = np.empty((self.n_classes))\n",
    "        self.expected_theta = np.empty((x.shape[1], self.n_classes))\n",
    "        \n",
    "        N = len(x)\n",
    "        for c in range(self.n_classes):\n",
    "            ck = x[y == c]\n",
    "            \n",
    "            Nc = len(ck)\n",
    "            self.expected_pi[c] = (Nc + self.alpha[c]) / (N + np.sum(self.alpha))\n",
    "            for d in range(x.shape[1]):\n",
    "                Ndc = np.sum(ck[:, d])\n",
    "                self.expected_theta[d][c] = (Ndc + self.b) / (Nc + self.a + self.b)\n",
    "    \n",
    "    def predict(self, X: np.ndarray):\n",
    "        probs_per_class = np.log(self.expected_pi) + X@np.log(self.expected_theta) +  (1-X)@np.log(1 - self.expected_theta)\n",
    "        return np.argmax(probs_per_class, axis=1)\n"
   ]
  },
  {
   "cell_type": "markdown",
   "id": "c1e4902f",
   "metadata": {},
   "source": [
    "## Treino"
   ]
  },
  {
   "cell_type": "code",
   "execution_count": 28,
   "id": "c4406d2e",
   "metadata": {},
   "outputs": [],
   "source": [
    "x_train, x_test, y_train, y_test = train_test_split(X, y, test_size=.2, random_state=42)"
   ]
  },
  {
   "cell_type": "code",
   "execution_count": 29,
   "id": "7ae0473a",
   "metadata": {},
   "outputs": [],
   "source": [
    "alpha = np.array([2, 2])\n",
    "a = 3\n",
    "b = 2\n",
    "model = BinomialNaiveBayes(2, alpha, a, b)\n",
    "model.fit(x_train, y_train.flatten())\n",
    "y_predict = model.predict(x_test)"
   ]
  },
  {
   "cell_type": "markdown",
   "id": "6a5f3997",
   "metadata": {},
   "source": [
    "## Teste e Métricas"
   ]
  },
  {
   "cell_type": "code",
   "execution_count": 30,
   "id": "d1138de5",
   "metadata": {},
   "outputs": [
    {
     "name": "stdout",
     "output_type": "stream",
     "text": [
      "Accurracy: \t0.87\n",
      "Recall: \t0.91\n",
      "Precision: \t0.89\n",
      "F1 Score: \t0.90\n"
     ]
    }
   ],
   "source": [
    "for metric, value in model_evaluation_scores(y_predict, y_test).items():\n",
    "    print(f'{metric}: \\t{value:.2f}')"
   ]
  }
 ],
 "metadata": {
  "kernelspec": {
   "display_name": "Python 3.8.10 64-bit ('base': conda)",
   "language": "python",
   "name": "python3810jvsc74a57bd0c9c95a542e0787f57613780817cff22e65fe979e702b6d9a424a45d54043f1a4"
  },
  "language_info": {
   "codemirror_mode": {
    "name": "ipython",
    "version": 3
   },
   "file_extension": ".py",
   "mimetype": "text/x-python",
   "name": "python",
   "nbconvert_exporter": "python",
   "pygments_lexer": "ipython3",
   "version": "3.8.10"
  }
 },
 "nbformat": 4,
 "nbformat_minor": 5
}
